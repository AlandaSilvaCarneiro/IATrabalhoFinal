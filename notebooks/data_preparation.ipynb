{
 "cells": [
  {
   "cell_type": "code",
   "execution_count": 16,
   "id": "fd3a8bdf-fcef-4b1b-acd3-19e70ac0af0a",
   "metadata": {},
   "outputs": [
    {
     "name": "stderr",
     "output_type": "stream",
     "text": [
      "WARNING:absl:Compiled the loaded model, but the compiled metrics have yet to be built. `model.compile_metrics` will be empty until you train or evaluate the model.\n",
      "WARNING:absl:Compiled the loaded model, but the compiled metrics have yet to be built. `model.compile_metrics` will be empty until you train or evaluate the model.\n",
      "WARNING:absl:Compiled the loaded model, but the compiled metrics have yet to be built. `model.compile_metrics` will be empty until you train or evaluate the model.\n",
      "WARNING:absl:Compiled the loaded model, but the compiled metrics have yet to be built. `model.compile_metrics` will be empty until you train or evaluate the model.\n"
     ]
    },
    {
     "name": "stdout",
     "output_type": "stream",
     "text": [
      "\u001b[1m1/1\u001b[0m \u001b[32m━━━━━━━━━━━━━━━━━━━━\u001b[0m\u001b[37m\u001b[0m \u001b[1m3s\u001b[0m 3s/step\n",
      "Previsão Primária: [[9.9684429e-01 3.1285849e-03 2.7068505e-05]], Rótulo: Fruta\n",
      "\u001b[1m1/1\u001b[0m \u001b[32m━━━━━━━━━━━━━━━━━━━━\u001b[0m\u001b[37m\u001b[0m \u001b[1m0s\u001b[0m 204ms/step\n",
      "Previsão Específica: [[0.01862129 0.09087396 0.00053352 0.02572559 0.00473721 0.00360571\n",
      "  0.05328546 0.02120675 0.01037256 0.11171396 0.03834386 0.00192356\n",
      "  0.46391442 0.00052306 0.14720048 0.00082514 0.00136151 0.00148362\n",
      "  0.00374839]], Rótulo: Melão\n",
      "{'category': 'Fruta', 'label': 'Melão', 'probability': 0.4639144241809845}\n"
     ]
    }
   ],
   "source": [
    "import numpy as np\n",
    "from tensorflow.keras.models import load_model\n",
    "from PIL import Image\n",
    "import os\n",
    "\n",
    "# Carregar modelos\n",
    "MODEL_PATH_PRIMARY = 'C:/Users/gutoe/Desktop/object_detection_project/models/model_primary.h5'\n",
    "MODEL_PATH_FRUIT = 'C:/Users/gutoe/Desktop/object_detection_project/models/model_fruit.h5'\n",
    "MODEL_PATH_VEGETABLES = 'C:/Users/gutoe/Desktop/object_detection_project/models/model_vegetables.h5'\n",
    "MODEL_PATH_PACKAGES = 'C:/Users/gutoe/Desktop/object_detection_project/models/model_packages.h5'\n",
    "\n",
    "model_primary = load_model(MODEL_PATH_PRIMARY)\n",
    "model_fruit = load_model(MODEL_PATH_FRUIT)\n",
    "model_vegetables = load_model(MODEL_PATH_VEGETABLES)\n",
    "model_packages = load_model(MODEL_PATH_PACKAGES)\n",
    "\n",
    "# Função para preparar imagem\n",
    "def prepare_image(image, target_size):\n",
    "    try:\n",
    "        image = image.resize(target_size)\n",
    "        image = image.convert('RGB')  # Converter para RGB\n",
    "        image = np.array(image)\n",
    "        image = np.expand_dims(image, axis=0)\n",
    "        image = image / 255.0\n",
    "        return image\n",
    "    except Exception as e:\n",
    "        print(f\"Error processing image: {e}\")\n",
    "        return None\n",
    "\n",
    "# Função para obter o rótulo da previsão\n",
    "def get_label_from_prediction(prediction, labels):\n",
    "    return labels[np.argmax(prediction)]\n",
    "\n",
    "# Exemplo de como usar as funções\n",
    "def predict_image(file_path):\n",
    "    image = Image.open(file_path)\n",
    "    prepared_image = prepare_image(image, target_size=(224, 224))\n",
    "    \n",
    "    if prepared_image is None:\n",
    "        return \"Erro ao preparar a imagem\"\n",
    "\n",
    "    primary_prediction = model_primary.predict(prepared_image)\n",
    "    primary_label = get_label_from_prediction(primary_prediction, ['Fruta', 'Vegetal', 'Pacote'])\n",
    "    print(f\"Previsão Primária: {primary_prediction}, Rótulo: {primary_label}\")\n",
    "\n",
    "    if primary_label == 'Fruta':\n",
    "        specific_prediction = model_fruit.predict(prepared_image)\n",
    "        labels = ['Abacate', 'Abacaxi', 'Ameixa', 'Banana', 'Kiwi', 'Laranja', 'Lima', 'Limão', 'Mamão', 'Manga', 'Maracujá', 'Maçã', 'Melão', 'Nectarina', 'Pera', 'Pêssego', 'Romã', 'Satsuma (um tipo de tangerina)', 'Toranja']\n",
    "        specific_label = get_label_from_prediction(specific_prediction, labels)\n",
    "        print(f\"Previsão Específica: {specific_prediction}, Rótulo: {specific_label}\")\n",
    "    elif primary_label == 'Vegetal':\n",
    "        specific_prediction = model_vegetables.predict(prepared_image)\n",
    "        labels = os.listdir('C:/Users/gutoe/Desktop/object_detection_project/data/train/images/Vegetais')\n",
    "        specific_label = get_label_from_prediction(specific_prediction, labels)\n",
    "        print(f\"Previsão Específica: {specific_prediction}, Rótulo: {specific_label}\")\n",
    "    else:\n",
    "        specific_prediction = model_packages.predict(prepared_image)\n",
    "        labels = os.listdir('C:/Users/gutoe/Desktop/object_detection_project/data/train/images/Pacotes')\n",
    "        specific_label = get_label_from_prediction(specific_prediction, labels)\n",
    "        print(f\"Previsão Específica: {specific_prediction}, Rótulo: {specific_label}\")\n",
    "\n",
    "    result = {\n",
    "        \"category\": primary_label,\n",
    "        \"label\": specific_label,\n",
    "        \"probability\": float(np.max(specific_prediction))\n",
    "    }\n",
    "    return result\n",
    "\n",
    "# Exemplo de uso\n",
    "file_path = r'C:\\Users\\gutoe\\Pictures\\Camera Roll\\sua_imagem.jpg.webp'  # Altere este caminho para o caminho da imagem de banana\n",
    "result = predict_image(file_path)\n",
    "print(result)\n"
   ]
  },
  {
   "cell_type": "code",
   "execution_count": null,
   "id": "222e05e3-d3ce-4db5-8066-95921422e7f3",
   "metadata": {},
   "outputs": [],
   "source": []
  }
 ],
 "metadata": {
  "kernelspec": {
   "display_name": "Python 3 (ipykernel)",
   "language": "python",
   "name": "python3"
  },
  "language_info": {
   "codemirror_mode": {
    "name": "ipython",
    "version": 3
   },
   "file_extension": ".py",
   "mimetype": "text/x-python",
   "name": "python",
   "nbconvert_exporter": "python",
   "pygments_lexer": "ipython3",
   "version": "3.12.2"
  }
 },
 "nbformat": 4,
 "nbformat_minor": 5
}
