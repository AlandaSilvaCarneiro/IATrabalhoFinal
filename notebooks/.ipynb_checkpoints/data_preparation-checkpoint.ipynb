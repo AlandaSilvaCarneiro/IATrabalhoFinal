{
 "cells": [
  {
   "cell_type": "code",
   "execution_count": null,
   "id": "f5046f2c-97e1-40a8-bb22-67df0f329e60",
   "metadata": {},
   "outputs": [],
   "source": [
    "# Importação das bibliotecas necessárias\n",
    "import os\n",
    "import pandas as pd\n",
    "import matplotlib.pyplot as plt\n",
    "from PIL import Image\n",
    "import numpy as np\n",
    "\n",
    "# Caminho para as pastas de dados\n",
    "train_images_path = '../data/train/images/'\n",
    "validation_images_path = '../data/validation/images/'\n",
    "test_images_path = '../data/test/images/'\n",
    "\n",
    "# Função para visualizar imagens\n",
    "def show_images_from_folder(folder_path, num_images=5):\n",
    "    images = os.listdir(folder_path)[:num_images]\n",
    "    plt.figure(figsize=(20, 10))\n",
    "    for i, image_name in enumerate(images):\n",
    "        img_path = os.path.join(folder_path, image_name)\n",
    "        img = Image.open(img_path)\n",
    "        plt.subplot(1, num_images, i+1)\n",
    "        plt.imshow(img)\n",
    "        plt.axis('off')\n",
    "    plt.show()\n",
    "\n",
    "# Visualizar algumas imagens de treino\n",
    "print(\"Treinamento:\")\n",
    "show_images_from_folder(train_images_path)\n",
    "\n",
    "# Visualizar algumas imagens de validação\n",
    "print(\"Validação:\")\n",
    "show_images_from_folder(validation_images_path)\n",
    "\n",
    "# Visualizar algumas imagens de teste\n",
    "print(\"Teste:\")\n",
    "show_images_from_folder(test_images_path)\n"
   ]
  }
 ],
 "metadata": {
  "kernelspec": {
   "display_name": "Python 3 (ipykernel)",
   "language": "python",
   "name": "python3"
  },
  "language_info": {
   "codemirror_mode": {
    "name": "ipython",
    "version": 3
   },
   "file_extension": ".py",
   "mimetype": "text/x-python",
   "name": "python",
   "nbconvert_exporter": "python",
   "pygments_lexer": "ipython3",
   "version": "3.12.2"
  }
 },
 "nbformat": 4,
 "nbformat_minor": 5
}
