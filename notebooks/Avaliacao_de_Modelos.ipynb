{
 "cells": [
  {
   "cell_type": "code",
   "execution_count": null,
   "id": "f5046f2c-97e1-40a8-bb22-67df0f329e60",
   "metadata": {},
   "outputs": [],
   "source": [
    "# Importar as bibliotecas necessárias\n",
    "import tensorflow as tf\n",
    "from tensorflow.keras.models import load_model\n",
    "import os\n",
    "\n",
    "# Definir diretório base\n",
    "base_dir = 'C:/Users/gutoe/Desktop/IATrabalhoFinal'\n",
    "model_dir = os.path.join(base_dir, 'models')\n",
    "\n",
    "# Caminhos dos modelos\n",
    "MODEL_PATH_PRIMARY = os.path.join(model_dir, 'primary_model.h5')\n",
    "MODEL_PATH_FRUIT = os.path.join(model_dir, 'fruit_model.h5')\n",
    "MODEL_PATH_VEGETABLES = os.path.join(model_dir, 'vegetables_model.h5')\n",
    "MODEL_PATH_PACKAGES = os.path.join(model_dir, 'packages_model.h5')\n",
    "\n",
    "# Carregar os modelos\n",
    "model_primary = load_model(MODEL_PATH_PRIMARY)\n",
    "model_fruit = load_model(MODEL_PATH_FRUIT)\n",
    "model_vegetables = load_model(MODEL_PATH_VEGETABLES)\n",
    "model_packages = load_model(MODEL_PATH_PACKAGES)\n",
    "\n",
    "# Função para avaliar o modelo\n",
    "def evaluate_model(model, data_dir):\n",
    "    datagen = ImageDataGenerator(rescale=1./255)\n",
    "    data_generator = datagen.flow_from_directory(\n",
    "        data_dir,\n",
    "        target_size=(150, 150),\n",
    "        batch_size=20,\n",
    "        class_mode='categorical')\n",
    "    \n",
    "    loss, accuracy = model.evaluate(data_generator)\n",
    "    return accuracy, loss\n",
    "\n",
    "# Avaliar os modelos\n",
    "test_dir_fruit = os.path.join(base_dir, 'datasets/test/fruit')\n",
    "accuracy_fruit, loss_fruit = evaluate_model(model_fruit, test_dir_fruit)\n",
    "\n",
    "test_dir_packages = os.path.join(base_dir, 'datasets/test/packages')\n",
    "accuracy_packages, loss_packages = evaluate_model(model_packages, test_dir_packages)\n",
    "\n",
    "test_dir_primary = os.path.join(base_dir, 'datasets/test/primary')\n",
    "accuracy_primary, loss_primary = evaluate_model(model_primary, test_dir_primary)\n",
    "\n",
    "test_dir_vegetables = os.path.join(base_dir, 'datasets/test/vegetables')\n",
    "accuracy_vegetables, loss_vegetables = evaluate_model(model_vegetables, test_dir_vegetables)\n",
    "\n",
    "# Exibir os resultados\n",
    "print(f'Fruit Model - Accuracy: {accuracy_fruit}, Loss: {loss_fruit}')\n",
    "print(f'Packages Model - Accuracy: {accuracy_packages}, Loss: {loss_packages}')\n",
    "print(f'Primary Model - Accuracy: {accuracy_primary}, Loss: {loss_primary}')\n",
    "print(f'Vegetables Model - Accuracy: {accuracy_vegetables}, Loss: {loss_vegetables}')\n"
   ]
  }
 ],
 "metadata": {
  "kernelspec": {
   "display_name": "Python 3 (ipykernel)",
   "language": "python",
   "name": "python3"
  },
  "language_info": {
   "codemirror_mode": {
    "name": "ipython",
    "version": 3
   },
   "file_extension": ".py",
   "mimetype": "text/x-python",
   "name": "python",
   "nbconvert_exporter": "python",
   "pygments_lexer": "ipython3",
   "version": "3.12.2"
  }
 },
 "nbformat": 4,
 "nbformat_minor": 5
}
